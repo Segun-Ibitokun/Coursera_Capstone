{
    "cells": [
        {
            "metadata": {
                "collapsed": true
            },
            "cell_type": "markdown",
            "source": "#                                               BATTLE OF THE NEIGHBORHOODS\n \n This notebook will be used for a final Capstone Project towards qualifying for the IBM Data Science Professional Certification. \n"
        },
        {
            "metadata": {},
            "cell_type": "code",
            "source": "#Import the pandas library as pd\nimport pandas as pd\n\n#Import the Numpy library as np\nimport numpy as np\n\nprint(\"Hello Capstone Project Course!\")",
            "execution_count": 1,
            "outputs": [
                {
                    "output_type": "stream",
                    "text": "Hello Capstone Project Course!\n",
                    "name": "stdout"
                }
            ]
        }
    ],
    "metadata": {
        "kernelspec": {
            "name": "python3",
            "display_name": "Python 3.7",
            "language": "python"
        },
        "language_info": {
            "name": "python",
            "version": "3.7.10",
            "mimetype": "text/x-python",
            "codemirror_mode": {
                "name": "ipython",
                "version": 3
            },
            "pygments_lexer": "ipython3",
            "nbconvert_exporter": "python",
            "file_extension": ".py"
        }
    },
    "nbformat": 4,
    "nbformat_minor": 1
}